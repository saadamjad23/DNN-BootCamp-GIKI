{
 "cells": [
  {
   "cell_type": "code",
   "execution_count": 1,
   "id": "a6766c05",
   "metadata": {},
   "outputs": [],
   "source": [
    "# Importing necessary libraries\n",
    "import numpy as np\n",
    "import pandas as pd\n",
    "import matplotlib.pyplot as plt\n",
    "from sklearn.datasets import fetch_california_housing\n",
    "from sklearn.model_selection import train_test_split\n",
    "from sklearn.linear_model import LinearRegression\n",
    "from sklearn.metrics import mean_squared_error, r2_score\n",
    "from sklearn.preprocessing import StandardScaler, MinMaxScaler, RobustScaler\n",
    "import ipywidgets as widgets\n",
    "from IPython.display import display, Markdown"
   ]
  },
  {
   "cell_type": "code",
   "execution_count": 2,
   "id": "a850624b",
   "metadata": {},
   "outputs": [],
   "source": [
    "# Load the California Housing dataset from scikit-learn\n",
    "housing = fetch_california_housing()\n",
    "\n",
    "# Convert the dataset to a pandas DataFrame for easier handling\n",
    "data = pd.DataFrame(housing.data, columns=housing.feature_names)\n",
    "data['MedHouseVal'] = housing.target  # Add the target column (median house value) to the DataFrame"
   ]
  },
  {
   "cell_type": "code",
   "execution_count": 4,
   "id": "eacf949d",
   "metadata": {},
   "outputs": [
    {
     "data": {
      "application/vnd.jupyter.widget-view+json": {
       "model_id": "1eb79e6dfd9848d38a8187abe4d6540a",
       "version_major": 2,
       "version_minor": 0
      },
      "text/plain": [
       "Dropdown(description='Dataset', options=('California Housing Dataset',), value=None)"
      ]
     },
     "metadata": {},
     "output_type": "display_data"
    }
   ],
   "source": [
    "dataset_dropdown = widgets.Dropdown(\n",
    "    options=[\"California Housing Dataset\"],\n",
    "    value= None,  # Default value\n",
    "    description='Dataset',\n",
    "    disabled=False,\n",
    ")\n",
    "\n",
    "display(dataset_dropdown)"
   ]
  },
  {
   "cell_type": "code",
   "execution_count": null,
   "id": "15f4f12c",
   "metadata": {},
   "outputs": [],
   "source": []
  }
 ],
 "metadata": {
  "kernelspec": {
   "display_name": "Python 3 (ipykernel)",
   "language": "python",
   "name": "python3"
  },
  "language_info": {
   "codemirror_mode": {
    "name": "ipython",
    "version": 3
   },
   "file_extension": ".py",
   "mimetype": "text/x-python",
   "name": "python",
   "nbconvert_exporter": "python",
   "pygments_lexer": "ipython3",
   "version": "3.11.5"
  }
 },
 "nbformat": 4,
 "nbformat_minor": 5
}
