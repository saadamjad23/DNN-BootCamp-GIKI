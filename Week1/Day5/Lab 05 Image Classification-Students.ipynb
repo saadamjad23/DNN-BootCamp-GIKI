{
 "cells": [
  {
   "cell_type": "markdown",
   "id": "ee1e4d82",
   "metadata": {},
   "source": [
    "# Image Classifcation\n",
    "Plant disease corn,maize,tomato"
   ]
  },
  {
   "cell_type": "code",
   "execution_count": 47,
   "id": "4ce92d68",
   "metadata": {},
   "outputs": [],
   "source": [
    "#importing Librararies\n"
   ]
  },
  {
   "cell_type": "code",
   "execution_count": 5,
   "id": "06057368",
   "metadata": {},
   "outputs": [],
   "source": [
    "import numpy as np\n",
    "import pandas as pd\n",
    "import matplotlib.pyplot as plt\n",
    "from matplotlib.image import imread\n",
    "import cv2\n",
    "import random\n",
    "import os\n",
    "from os import listdir\n",
    "from PIL import Image\n",
    "from sklearn.preprocessing import label_binarize,  LabelBinarizer\n",
    "from keras.preprocessing import image\n",
    "#from keras.preprocessing.image import img_to_array, array_to_img\n",
    "from tensorflow.keras.preprocessing.image import img_to_array\n",
    "from keras.optimizers import Adam\n",
    "from keras.models import Sequential\n",
    "from keras.layers import Activation, Flatten, Dropout, Dense\n",
    "from sklearn.model_selection import train_test_split\n",
    "from keras.models import model_from_json\n",
    "from keras.utils import to_categorical "
   ]
  },
  {
   "cell_type": "code",
   "execution_count": 20,
   "id": "ed7fc69b",
   "metadata": {},
   "outputs": [],
   "source": [
    "# Plotting 12 images to check dataset\n",
    "\n",
    "\n",
    "\n"
   ]
  },
  {
   "cell_type": "code",
   "execution_count": 21,
   "id": "e854d4aa",
   "metadata": {},
   "outputs": [],
   "source": [
    "#Converting Images to array \n",
    "def convert_image_to_array(image_dir):\n",
    "    image = cv2.imread(image_dir)\n",
    "    if image is not None :\n",
    "        image = cv2.resize(image, (256,256))  \n",
    "            #image = cv2.cvtColor(image, cv2.COLOR_BGR2GRAY) \n",
    "        return img_to_array(image)\n",
    "    else :\n",
    "        return np.array([])"
   ]
  },
  {
   "cell_type": "code",
   "execution_count": 22,
   "id": "69af399f",
   "metadata": {},
   "outputs": [],
   "source": [
    "dir = \"Data/Plant_images\"\n",
    "root_dir = listdir(dir)\n",
    "image_list, label_list = [], []\n",
    "all_labels = ['Corn-Common_rust', 'Potato-Early_blight', 'Tomato-Bacterial_spot']\n",
    "binary_labels = [0,1,2]\n",
    "temp = -1\n",
    "\n",
    "# Reading and converting image to numpy array\n",
    "for directory in root_dir:\n",
    "  plant_image_list = listdir(f\"{dir}/{directory}\")\n",
    "  temp += 1\n",
    "  for files in plant_image_list:\n",
    "    image_path = f\"{dir}/{directory}/{files}\"\n",
    "    image_list.append(convert_image_to_array(image_path))\n",
    "    label_list.append(binary_labels[temp])"
   ]
  },
  {
   "cell_type": "code",
   "execution_count": 23,
   "id": "0bd62b31-1469-4bd3-8c82-af4a53244d49",
   "metadata": {},
   "outputs": [],
   "source": [
    "# check load image and it's shape\n"
   ]
  },
  {
   "cell_type": "code",
   "execution_count": 24,
   "id": "dd888e71",
   "metadata": {},
   "outputs": [],
   "source": [
    "# Check the number of classes count\n"
   ]
  },
  {
   "cell_type": "code",
   "execution_count": 25,
   "id": "ab32dbd1-4a34-41c4-a87e-bb270ce617f8",
   "metadata": {},
   "outputs": [],
   "source": [
    "#label_counts.count()"
   ]
  },
  {
   "cell_type": "code",
   "execution_count": 26,
   "id": "ab22b7e0",
   "metadata": {},
   "outputs": [],
   "source": [
    "#image_list[0].shape"
   ]
  },
  {
   "cell_type": "code",
   "execution_count": 27,
   "id": "31847c9d",
   "metadata": {},
   "outputs": [],
   "source": [
    "#label_list = np.array(label_list)"
   ]
  },
  {
   "cell_type": "code",
   "execution_count": 28,
   "id": "05aabb92",
   "metadata": {},
   "outputs": [],
   "source": [
    "#splitting"
   ]
  },
  {
   "cell_type": "code",
   "execution_count": 29,
   "id": "8f6251bc",
   "metadata": {},
   "outputs": [],
   "source": [
    "x_train, x_test, y_train, y_test = train_test_split(image_list, label_list, test_size=0.2, random_state = 10) "
   ]
  },
  {
   "cell_type": "code",
   "execution_count": 35,
   "id": "58ca9d07",
   "metadata": {},
   "outputs": [],
   "source": [
    "# image normalizing /255\n",
    "\n"
   ]
  },
  {
   "cell_type": "code",
   "execution_count": 36,
   "id": "123b644e-7609-4163-917e-ea665445aab5",
   "metadata": {},
   "outputs": [],
   "source": [
    "#x_train.shape"
   ]
  },
  {
   "cell_type": "code",
   "execution_count": 37,
   "id": "f0aacb55-4c68-4a4e-ad68-f444de462b11",
   "metadata": {},
   "outputs": [],
   "source": [
    "#x_train = x_train.reshape(, , ,)\n",
    "#x_test = x_test.reshape( , , , ) "
   ]
  },
  {
   "cell_type": "raw",
   "id": "0d582ea2",
   "metadata": {},
   "source": [
    "Now we will normalize the dataset of our images. As pixel values ranges from 0 to 255 so we will divide each image pixel with 255 to normalize the dataset."
   ]
  },
  {
   "cell_type": "code",
   "execution_count": 38,
   "id": "92afff15",
   "metadata": {},
   "outputs": [],
   "source": [
    "y_train = to_categorical(y_train)\n",
    "y_test = to_categorical(y_test)"
   ]
  },
  {
   "cell_type": "code",
   "execution_count": 39,
   "id": "ddb0e870",
   "metadata": {},
   "outputs": [],
   "source": [
    "# Splitting the training data set into training and validation data sets\n",
    "x_train, x_val, y_train, y_val = train_test_split(x_train, y_train, test_size = 0.2)"
   ]
  },
  {
   "cell_type": "code",
   "execution_count": 40,
   "id": "cb995a7f-f56e-4f91-833b-a2ab55b59d17",
   "metadata": {},
   "outputs": [],
   "source": [
    "# Model 1\n",
    "\n"
   ]
  },
  {
   "cell_type": "code",
   "execution_count": 98,
   "id": "351cc580-a2ae-4780-b949-7e26ecd31054",
   "metadata": {},
   "outputs": [
    {
     "name": "stdout",
     "output_type": "stream",
     "text": [
      "Epoch 1/15\n",
      "\u001b[1m83/83\u001b[0m \u001b[32m━━━━━━━━━━━━━━━━━━━━\u001b[0m\u001b[37m\u001b[0m \u001b[1m30s\u001b[0m 362ms/step - accuracy: 0.9507 - loss: 0.1817 - val_accuracy: 0.9167 - val_loss: 1.3180\n",
      "Epoch 2/15\n",
      "\u001b[1m83/83\u001b[0m \u001b[32m━━━━━━━━━━━━━━━━━━━━\u001b[0m\u001b[37m\u001b[0m \u001b[1m29s\u001b[0m 348ms/step - accuracy: 0.9817 - loss: 0.1269 - val_accuracy: 0.9375 - val_loss: 1.2140\n",
      "Epoch 3/15\n",
      "\u001b[1m83/83\u001b[0m \u001b[32m━━━━━━━━━━━━━━━━━━━━\u001b[0m\u001b[37m\u001b[0m \u001b[1m28s\u001b[0m 340ms/step - accuracy: 0.9690 - loss: 0.1209 - val_accuracy: 0.9583 - val_loss: 1.0766\n",
      "Epoch 4/15\n",
      "\u001b[1m83/83\u001b[0m \u001b[32m━━━━━━━━━━━━━━━━━━━━\u001b[0m\u001b[37m\u001b[0m \u001b[1m26s\u001b[0m 310ms/step - accuracy: 0.9300 - loss: 0.3072 - val_accuracy: 0.9028 - val_loss: 1.0191\n",
      "Epoch 5/15\n",
      "\u001b[1m83/83\u001b[0m \u001b[32m━━━━━━━━━━━━━━━━━━━━\u001b[0m\u001b[37m\u001b[0m \u001b[1m26s\u001b[0m 311ms/step - accuracy: 0.9584 - loss: 0.1796 - val_accuracy: 0.9653 - val_loss: 0.8568\n",
      "Epoch 6/15\n",
      "\u001b[1m83/83\u001b[0m \u001b[32m━━━━━━━━━━━━━━━━━━━━\u001b[0m\u001b[37m\u001b[0m \u001b[1m41s\u001b[0m 312ms/step - accuracy: 0.9709 - loss: 0.0510 - val_accuracy: 0.9097 - val_loss: 1.1097\n",
      "Epoch 7/15\n",
      "\u001b[1m83/83\u001b[0m \u001b[32m━━━━━━━━━━━━━━━━━━━━\u001b[0m\u001b[37m\u001b[0m \u001b[1m26s\u001b[0m 311ms/step - accuracy: 0.9911 - loss: 0.0534 - val_accuracy: 0.9444 - val_loss: 0.9071\n",
      "Epoch 8/15\n",
      "\u001b[1m83/83\u001b[0m \u001b[32m━━━━━━━━━━━━━━━━━━━━\u001b[0m\u001b[37m\u001b[0m \u001b[1m42s\u001b[0m 317ms/step - accuracy: 0.9833 - loss: 0.0533 - val_accuracy: 0.9028 - val_loss: 1.0852\n",
      "Epoch 9/15\n",
      "\u001b[1m83/83\u001b[0m \u001b[32m━━━━━━━━━━━━━━━━━━━━\u001b[0m\u001b[37m\u001b[0m \u001b[1m26s\u001b[0m 317ms/step - accuracy: 0.9170 - loss: 0.3891 - val_accuracy: 0.9514 - val_loss: 1.4948\n",
      "Epoch 10/15\n",
      "\u001b[1m83/83\u001b[0m \u001b[32m━━━━━━━━━━━━━━━━━━━━\u001b[0m\u001b[37m\u001b[0m \u001b[1m41s\u001b[0m 315ms/step - accuracy: 0.8624 - loss: 2.1948 - val_accuracy: 0.9236 - val_loss: 1.4563\n",
      "Epoch 11/15\n",
      "\u001b[1m83/83\u001b[0m \u001b[32m━━━━━━━━━━━━━━━━━━━━\u001b[0m\u001b[37m\u001b[0m \u001b[1m26s\u001b[0m 318ms/step - accuracy: 0.9035 - loss: 0.5831 - val_accuracy: 0.9583 - val_loss: 0.5834\n",
      "Epoch 12/15\n",
      "\u001b[1m83/83\u001b[0m \u001b[32m━━━━━━━━━━━━━━━━━━━━\u001b[0m\u001b[37m\u001b[0m \u001b[1m27s\u001b[0m 319ms/step - accuracy: 0.9378 - loss: 0.2287 - val_accuracy: 0.8681 - val_loss: 0.6143\n",
      "Epoch 13/15\n",
      "\u001b[1m83/83\u001b[0m \u001b[32m━━━━━━━━━━━━━━━━━━━━\u001b[0m\u001b[37m\u001b[0m \u001b[1m27s\u001b[0m 330ms/step - accuracy: 0.9623 - loss: 0.0998 - val_accuracy: 0.9514 - val_loss: 0.3761\n",
      "Epoch 14/15\n",
      "\u001b[1m83/83\u001b[0m \u001b[32m━━━━━━━━━━━━━━━━━━━━\u001b[0m\u001b[37m\u001b[0m \u001b[1m29s\u001b[0m 344ms/step - accuracy: 0.9890 - loss: 0.0569 - val_accuracy: 0.8750 - val_loss: 0.5834\n",
      "Epoch 15/15\n",
      "\u001b[1m83/83\u001b[0m \u001b[32m━━━━━━━━━━━━━━━━━━━━\u001b[0m\u001b[37m\u001b[0m \u001b[1m41s\u001b[0m 345ms/step - accuracy: 0.9556 - loss: 0.1306 - val_accuracy: 0.9167 - val_loss: 0.5114\n"
     ]
    }
   ],
   "source": [
    "# Training the model\n",
    "epochs = 15\n",
    "batch_size = 7\n",
    "history = model.fit(x_train, y_train, batch_size = batch_size, epochs = epochs, \n",
    "                    validation_data = (x_val, y_val))"
   ]
  },
  {
   "cell_type": "code",
   "execution_count": 41,
   "id": "71d1bf55-4645-44cf-8d59-4be857b0dd7a",
   "metadata": {},
   "outputs": [],
   "source": [
    "# plot the results\n"
   ]
  },
  {
   "cell_type": "code",
   "execution_count": 42,
   "id": "e85a79bb-cd59-4249-90b2-e7ecd249804f",
   "metadata": {},
   "outputs": [],
   "source": [
    "#plot model accuracy\n"
   ]
  },
  {
   "cell_type": "code",
   "execution_count": 101,
   "id": "2f281b99-91fb-4933-a121-f1c5dd705336",
   "metadata": {},
   "outputs": [
    {
     "name": "stdout",
     "output_type": "stream",
     "text": [
      "\u001b[1m6/6\u001b[0m \u001b[32m━━━━━━━━━━━━━━━━━━━━\u001b[0m\u001b[37m\u001b[0m \u001b[1m0s\u001b[0m 26ms/step - accuracy: 0.9335 - loss: 0.1256\n",
      "Test Accuracy: 0.9111111164093018\n",
      "\u001b[1m6/6\u001b[0m \u001b[32m━━━━━━━━━━━━━━━━━━━━\u001b[0m\u001b[37m\u001b[0m \u001b[1m0s\u001b[0m 27ms/step\n"
     ]
    }
   ],
   "source": [
    "from sklearn.metrics import classification_report, accuracy_score,confusion_matrix\n",
    "\n",
    "# Evaluate on the test set\n",
    "test_loss, test_accuracy = model.evaluate(x_test, y_test)\n",
    "print(f\"Test Accuracy: {test_accuracy}\")\n",
    "\n",
    "# Predict on the test set\n",
    "y_pred = model.predict(x_test)\n",
    "y_pred_classes = np.argmax(y_pred, axis=1)\n",
    "y_true = np.argmax(y_test, axis=1)\n"
   ]
  },
  {
   "cell_type": "code",
   "execution_count": 102,
   "id": "66cdf950-3cdf-4528-8eeb-327b7b50a4c0",
   "metadata": {},
   "outputs": [
    {
     "data": {
      "text/plain": [
       "array([[65,  0,  0],\n",
       "       [ 0, 44, 15],\n",
       "       [ 0,  1, 55]], dtype=int64)"
      ]
     },
     "execution_count": 102,
     "metadata": {},
     "output_type": "execute_result"
    }
   ],
   "source": [
    "# Create confusion matrix\n",
    "cm = confusion_matrix(y_true, y_pred_classes)\n",
    "cm"
   ]
  },
  {
   "cell_type": "code",
   "execution_count": 103,
   "id": "aadeca0e-1f78-4292-a852-93cdd0bc21c7",
   "metadata": {},
   "outputs": [
    {
     "data": {
      "image/png": "[encoded data removed]",
      "text/plain": [
       "<Figure size 1000x700 with 2 Axes>"
      ]
     },
     "metadata": {},
     "output_type": "display_data"
    }
   ],
   "source": [
    "# Visualizing the confusion matrix\n",
    "import seaborn as sns\n",
    "plt.figure(figsize=(10, 7))\n",
    "sns.heatmap(cm, annot=True, fmt='d', cmap='Blues', \n",
    "            xticklabels=all_labels, yticklabels=all_labels)\n",
    "plt.title('Confusion Matrix')\n",
    "plt.xlabel('Predicted Label')\n",
    "plt.ylabel('True Label')\n",
    "plt.show()\n"
   ]
  },
  {
   "cell_type": "code",
   "execution_count": 83,
   "id": "0a315f2c-9732-45a8-9966-fdf508ac1569",
   "metadata": {},
   "outputs": [
    {
     "name": "stderr",
     "output_type": "stream",
     "text": [
      "WARNING:absl:You are saving your model as an HDF5 file via `model.save()` or `keras.saving.save_model(model)`. This file format is considered legacy. We recommend using instead the native Keras format, e.g. `model.save('my_model.keras')` or `keras.saving.save_model(model, 'my_model.keras')`. \n"
     ]
    }
   ],
   "source": [
    "model.save('ann_model.h5')\n"
   ]
  },
  {
   "cell_type": "code",
   "execution_count": null,
   "id": "6c118dcd-e55f-4662-889d-d465cc9210d9",
   "metadata": {},
   "outputs": [],
   "source": [
    "from tensorflow.keras.models import load_model\n",
    "from tensorflow.keras.preprocessing.image import load_img, img_to_array\n",
    "\n",
    "# Load the saved model\n",
    "model = load_model('ann_model.h5')\n",
    "\n",
    "# Function to preprocess and predict on a single image\n",
    "def preprocess_image(image_path):\n",
    "    # Load image\n",
    "    img = load_img(image_path, target_size=(256, 256))  # Resize to match input shape\n",
    "    img_array = img_to_array(img)  # Convert to array\n",
    "    img_array = img_array.astype('float32') / 255.0  # Normalize\n",
    "    img_array = img_array.reshape(1, 256, 256, 3)  # Reshape for the model\n",
    "    return img_array\n",
    "\n",
    "def predict_image(image_path):\n",
    "    img_array = preprocess_image(image_path)\n",
    "    prediction = model.predict(img_array)\n",
    "    predicted_class = np.argmax(prediction)\n",
    "    return predicted_class\n"
   ]
  },
  {
   "cell_type": "code",
   "execution_count": null,
   "id": "7966cd97-5655-430e-ae57-f566939753ae",
   "metadata": {},
   "outputs": [],
   "source": [
    "#Example usage with test images\n",
    "test_image_paths = ['image1.jpg', 'image2.jpg']  # Replace with your test image paths\n",
    "for img_path in test_image_paths:\n",
    "    predicted_class = predict_image(img_path)\n",
    "    print(f\"Predicted class for {img_path}: {predicted_class}\")\n",
    "\n",
    "    # Optionally display the image\n",
    "    img = load_img(img_path, target_size=(256, 256))\n",
    "    plt.imshow(img)\n",
    "    plt.title(f\"Predicted: {predicted_class}\")\n",
    "    plt.axis('off')\n",
    "    plt.show()"
   ]
  }
 ],
 "metadata": {
  "kernelspec": {
   "display_name": "Python 3 (ipykernel)",
   "language": "python",
   "name": "python3"
  },
  "language_info": {
   "codemirror_mode": {
    "name": "ipython",
    "version": 3
   },
   "file_extension": ".py",
   "mimetype": "text/x-python",
   "name": "python",
   "nbconvert_exporter": "python",
   "pygments_lexer": "ipython3",
   "version": "3.11.7"
  }
 },
 "nbformat": 4,
 "nbformat_minor": 5
}
